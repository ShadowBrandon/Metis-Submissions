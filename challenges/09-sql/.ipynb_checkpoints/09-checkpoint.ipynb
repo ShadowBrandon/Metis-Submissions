{
 "cells": [
  {
   "cell_type": "markdown",
   "metadata": {},
   "source": [
    "# Challenge Set 9\n",
    "## Part I: W3Schools SQL Lab \n",
    "\n",
    "*Introductory level SQL*\n",
    "\n",
    "This challenge uses the [W3Schools SQL playground](http://www.w3schools.com/sql/trysql.asp?filename=trysql_select_all). Please add solutions to this markdown file and submit.\n",
    "\n",
    "Which customers are from the UK?"
   ]
  },
  {
   "cell_type": "markdown",
   "metadata": {},
   "source": [
    "```Sql\n",
    "SELECT * FROM Customers WHERE Country = 'UK' \n",
    "```"
   ]
  },
  {
   "cell_type": "markdown",
   "metadata": {},
   "source": [
    "What is the name of the customer who has the most orders?"
   ]
  },
  {
   "cell_type": "markdown",
   "metadata": {},
   "source": [
    "```Sql\n",
    "SELECT CustomerName, COUNT(*) FROM Customers\n",
    "JOIN Orders ON Customers.CustomerID = Orders.CustomerID\n",
    "GROUP BY CustomerName\n",
    "ORDER BY COUNT(*) DESC\n",
    "LIMIT 1;\n",
    "```"
   ]
  },
  {
   "cell_type": "markdown",
   "metadata": {},
   "source": [
    "Which supplier has the highest average product price?"
   ]
  },
  {
   "cell_type": "markdown",
   "metadata": {},
   "source": [
    "```Sql\n",
    "SELECT SupplierName, AVG(Price) FROM Suppliers\n",
    "JOIN Products ON Suppliers.SupplierID = Products.SupplierID\n",
    "GROUP BY SupplierName\n",
    "ORDER BY AVG(Price) DESC\n",
    "LIMIT 1;\n",
    "```"
   ]
  },
  {
   "cell_type": "markdown",
   "metadata": {},
   "source": [
    "How many different countries are all the customers from? (*Hint:* consider [DISTINCT](http://www.w3schools.com/sql/sql_distinct.asp).)"
   ]
  },
  {
   "cell_type": "markdown",
   "metadata": {},
   "source": [
    "```Sql\n",
    "SELECT COUNT(DISTINCT(Country)) FROM Customers;\n",
    "```"
   ]
  },
  {
   "cell_type": "markdown",
   "metadata": {},
   "source": [
    "What category appears in the most orders?"
   ]
  },
  {
   "cell_type": "markdown",
   "metadata": {},
   "source": [
    "```Sql\n",
    "SELECT Categories.CategoryName, COUNT(*) FROM Categories\n",
    "JOIN Products ON Categories.CategoryID = Products.CategoryID\n",
    "JOIN OrderDetails ON OrderDetails.ProductID = Products.ProductID\n",
    "GROUP BY Categories.CategoryID \n",
    "ORDER BY COUNT(Categories.CategoryID) DESC\n",
    "LIMIT 1;\n",
    "```"
   ]
  },
  {
   "cell_type": "markdown",
   "metadata": {},
   "source": [
    "What was the total cost for each order?"
   ]
  },
  {
   "cell_type": "markdown",
   "metadata": {},
   "source": [
    "```Sql\n",
    "SELECT OrderID AS OrderID, SUM(Products.Price * OrderDetails.Quantity) as OrderPrice FROM OrderDetails\n",
    "JOIN Products ON OrderDetails.ProductID = Products.ProductID\n",
    "GROUP BY OrderID\n",
    "ORDER BY OrderPrice DESC\n",
    "```"
   ]
  },
  {
   "cell_type": "markdown",
   "metadata": {},
   "source": [
    "Which employee made the most sales (by total price)?"
   ]
  },
  {
   "cell_type": "markdown",
   "metadata": {},
   "source": [
    "```Sql\n",
    "SELECT LastName, FirstName, SUM(Price * Quantity) AS SalesTotal FROM Employees\n",
    "JOIN Orders ON Orders.EmployeeID = Employees.EmployeeID\n",
    "JOIN OrderDetails ON OrderDetails.OrderID = Orders.OrderID\n",
    "JOIN Products ON Products.ProductID = OrderDetails.ProductID\n",
    "GROUP BY Orders.EmployeeID\n",
    "ORDER BY SalesTotal DESC\n",
    "LIMIT  1;\n",
    "```"
   ]
  },
  {
   "cell_type": "markdown",
   "metadata": {},
   "source": [
    "Which employees have BS degrees? (*Hint:* look at the [LIKE](http://www.w3schools.com/sql/sql_like.asp) operator.)"
   ]
  },
  {
   "cell_type": "markdown",
   "metadata": {},
   "source": [
    "```Sql\n",
    "SELECT LastName, FirstName FROM Employees\n",
    "WHERE Notes LIKE '%BS%'\n",
    "```"
   ]
  },
  {
   "cell_type": "markdown",
   "metadata": {},
   "source": [
    "Which supplier of three or more products has the highest average product price? (*Hint:* look at the [HAVING](http://www.w3schools.com/sql/sql_having.asp) operator.)"
   ]
  },
  {
   "cell_type": "markdown",
   "metadata": {},
   "source": [
    "```Sql\n",
    "SELECT SupplierName, AVG(Products.Price) AS AvgPrice FROM Suppliers\n",
    "JOIN Products ON Suppliers.SupplierID = Products.SupplierID\n",
    "GROUP BY SupplierName\n",
    "HAVING COUNT(Products.ProductID) > 3\n",
    "ORDER BY AvgPrice DESC\n",
    "LIMIT 3;\n",
    "```"
   ]
  }
 ],
 "metadata": {
  "kernelspec": {
   "display_name": "Python [conda root]",
   "language": "python",
   "name": "conda-root-py"
  },
  "language_info": {
   "codemirror_mode": {
    "name": "ipython",
    "version": 3
   },
   "file_extension": ".py",
   "mimetype": "text/x-python",
   "name": "python",
   "nbconvert_exporter": "python",
   "pygments_lexer": "ipython3",
   "version": "3.5.2"
  }
 },
 "nbformat": 4,
 "nbformat_minor": 2
}
